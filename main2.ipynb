{
 "cells": [
  {
   "cell_type": "code",
   "execution_count": null,
   "metadata": {},
   "outputs": [],
   "source": [
    "# Anaconda Prompt\n",
    "# 启动后会自动激活 base 环境（Anaconda 的默认环境）\n",
    "\n",
    "# VS Code 新建终端\n",
    "# 默认使用的是系统的终端（如 cmd、PowerShell 或 bash）"
   ]
  }
 ],
 "metadata": {
  "kernelspec": {
   "display_name": "base",
   "language": "python",
   "name": "python3"
  },
  "language_info": {
   "name": "python",
   "version": "3.11.5"
  }
 },
 "nbformat": 4,
 "nbformat_minor": 2
}
